{
 "cells": [
  {
   "cell_type": "code",
   "execution_count": 1,
   "metadata": {},
   "outputs": [],
   "source": [
    "import pandas as pd\n",
    "import numpy as np\n",
    "import yfinance as yf\n",
    "from textblob import TextBlob\n",
    "import re\n",
    "\n",
    "from nltk.classify import NaiveBayesClassifier\n",
    "from nltk.corpus import subjectivity\n",
    "from nltk.sentiment import SentimentAnalyzer\n",
    "from nltk.sentiment.util import *"
   ]
  },
  {
   "cell_type": "code",
   "execution_count": 12,
   "metadata": {},
   "outputs": [
    {
     "name": "stdout",
     "output_type": "stream",
     "text": [
      "[*********************100%***********************]  1 of 1 completed\n"
     ]
    }
   ],
   "source": [
    "tweetData = pd.read_csv('Test29-02.csv',usecols=['Date','Tweets'])\n",
    "stockData = yf.download(\"AAPL\", start=\"2020-06-29\", end=\"2020-07-03\")\n",
    "\n",
    "stockData = stockData.drop(columns=['Open','High','Low','Close','Volume'],axis=1)\n",
    "stockData = stockData.rename(columns={'Adj Close':'AdjClose'})\n",
    "stockData = stockData.reset_index()\n",
    "stockData['Date'] = stockData['Date'].astype(str)\n",
    "stockData.set_index('Date',inplace=True)"
   ]
  },
  {
   "cell_type": "code",
   "execution_count": 13,
   "metadata": {},
   "outputs": [
    {
     "data": {
      "text/html": [
       "<div>\n",
       "<style scoped>\n",
       "    .dataframe tbody tr th:only-of-type {\n",
       "        vertical-align: middle;\n",
       "    }\n",
       "\n",
       "    .dataframe tbody tr th {\n",
       "        vertical-align: top;\n",
       "    }\n",
       "\n",
       "    .dataframe thead th {\n",
       "        text-align: right;\n",
       "    }\n",
       "</style>\n",
       "<table border=\"1\" class=\"dataframe\">\n",
       "  <thead>\n",
       "    <tr style=\"text-align: right;\">\n",
       "      <th></th>\n",
       "      <th>Date</th>\n",
       "      <th>Tweets</th>\n",
       "    </tr>\n",
       "  </thead>\n",
       "  <tbody>\n",
       "    <tr>\n",
       "      <td>0</td>\n",
       "      <td>2020-06-29</td>\n",
       "      <td>ba  backtesting upwards trendline it can possi...</td>\n",
       "    </tr>\n",
       "    <tr>\n",
       "      <td>1</td>\n",
       "      <td>2020-06-30</td>\n",
       "      <td>here is my semiannual report for the past  mon...</td>\n",
       "    </tr>\n",
       "    <tr>\n",
       "      <td>2</td>\n",
       "      <td>2020-07-01</td>\n",
       "      <td>follow for optionsignals optiontrading will go...</td>\n",
       "    </tr>\n",
       "    <tr>\n",
       "      <td>3</td>\n",
       "      <td>2020-07-02</td>\n",
       "      <td>msft outperforming aapl fb nflf today  ready f...</td>\n",
       "    </tr>\n",
       "  </tbody>\n",
       "</table>\n",
       "</div>"
      ],
      "text/plain": [
       "         Date                                             Tweets\n",
       "0  2020-06-29  ba  backtesting upwards trendline it can possi...\n",
       "1  2020-06-30  here is my semiannual report for the past  mon...\n",
       "2  2020-07-01  follow for optionsignals optiontrading will go...\n",
       "3  2020-07-02  msft outperforming aapl fb nflf today  ready f..."
      ]
     },
     "execution_count": 13,
     "metadata": {},
     "output_type": "execute_result"
    }
   ],
   "source": [
    "#stockData.drop(['2019-12-31'],inplace=True)\n",
    "tweetData"
   ]
  },
  {
   "cell_type": "code",
   "execution_count": 30,
   "metadata": {},
   "outputs": [],
   "source": [
    "def cleanTweets(tweets):\n",
    "    tweets = re.sub('[^a-zA-Z\\s]*', '', tweets)\n",
    "    return tweets"
   ]
  },
  {
   "cell_type": "code",
   "execution_count": 31,
   "metadata": {},
   "outputs": [],
   "source": [
    "tweetData['Tweets'] = tweetData['Tweets'].apply(cleanTweets)"
   ]
  },
  {
   "cell_type": "code",
   "execution_count": 14,
   "metadata": {},
   "outputs": [
    {
     "data": {
      "text/html": [
       "<div>\n",
       "<style scoped>\n",
       "    .dataframe tbody tr th:only-of-type {\n",
       "        vertical-align: middle;\n",
       "    }\n",
       "\n",
       "    .dataframe tbody tr th {\n",
       "        vertical-align: top;\n",
       "    }\n",
       "\n",
       "    .dataframe thead th {\n",
       "        text-align: right;\n",
       "    }\n",
       "</style>\n",
       "<table border=\"1\" class=\"dataframe\">\n",
       "  <thead>\n",
       "    <tr style=\"text-align: right;\">\n",
       "      <th></th>\n",
       "      <th>AdjClose</th>\n",
       "    </tr>\n",
       "    <tr>\n",
       "      <th>Date</th>\n",
       "      <th></th>\n",
       "    </tr>\n",
       "  </thead>\n",
       "  <tbody>\n",
       "    <tr>\n",
       "      <td>2020-06-29</td>\n",
       "      <td>361.779999</td>\n",
       "    </tr>\n",
       "    <tr>\n",
       "      <td>2020-06-30</td>\n",
       "      <td>364.799988</td>\n",
       "    </tr>\n",
       "    <tr>\n",
       "      <td>2020-07-01</td>\n",
       "      <td>364.109985</td>\n",
       "    </tr>\n",
       "    <tr>\n",
       "      <td>2020-07-02</td>\n",
       "      <td>366.630005</td>\n",
       "    </tr>\n",
       "  </tbody>\n",
       "</table>\n",
       "</div>"
      ],
      "text/plain": [
       "              AdjClose\n",
       "Date                  \n",
       "2020-06-29  361.779999\n",
       "2020-06-30  364.799988\n",
       "2020-07-01  364.109985\n",
       "2020-07-02  366.630005"
      ]
     },
     "execution_count": 14,
     "metadata": {},
     "output_type": "execute_result"
    }
   ],
   "source": [
    "stockData.tail()"
   ]
  },
  {
   "cell_type": "code",
   "execution_count": 15,
   "metadata": {
    "scrolled": true
   },
   "outputs": [
    {
     "data": {
      "text/html": [
       "<div>\n",
       "<style scoped>\n",
       "    .dataframe tbody tr th:only-of-type {\n",
       "        vertical-align: middle;\n",
       "    }\n",
       "\n",
       "    .dataframe tbody tr th {\n",
       "        vertical-align: top;\n",
       "    }\n",
       "\n",
       "    .dataframe thead th {\n",
       "        text-align: right;\n",
       "    }\n",
       "</style>\n",
       "<table border=\"1\" class=\"dataframe\">\n",
       "  <thead>\n",
       "    <tr style=\"text-align: right;\">\n",
       "      <th></th>\n",
       "      <th>Date</th>\n",
       "      <th>Tweets</th>\n",
       "      <th>AdjClose</th>\n",
       "    </tr>\n",
       "  </thead>\n",
       "  <tbody>\n",
       "    <tr>\n",
       "      <td>0</td>\n",
       "      <td>2020-06-29</td>\n",
       "      <td>ba  backtesting upwards trendline it can possi...</td>\n",
       "      <td>NaN</td>\n",
       "    </tr>\n",
       "    <tr>\n",
       "      <td>1</td>\n",
       "      <td>2020-06-30</td>\n",
       "      <td>here is my semiannual report for the past  mon...</td>\n",
       "      <td>NaN</td>\n",
       "    </tr>\n",
       "    <tr>\n",
       "      <td>2</td>\n",
       "      <td>2020-07-01</td>\n",
       "      <td>follow for optionsignals optiontrading will go...</td>\n",
       "      <td>NaN</td>\n",
       "    </tr>\n",
       "    <tr>\n",
       "      <td>3</td>\n",
       "      <td>2020-07-02</td>\n",
       "      <td>msft outperforming aapl fb nflf today  ready f...</td>\n",
       "      <td>NaN</td>\n",
       "    </tr>\n",
       "  </tbody>\n",
       "</table>\n",
       "</div>"
      ],
      "text/plain": [
       "         Date                                             Tweets  AdjClose\n",
       "0  2020-06-29  ba  backtesting upwards trendline it can possi...       NaN\n",
       "1  2020-06-30  here is my semiannual report for the past  mon...       NaN\n",
       "2  2020-07-01  follow for optionsignals optiontrading will go...       NaN\n",
       "3  2020-07-02  msft outperforming aapl fb nflf today  ready f...       NaN"
      ]
     },
     "execution_count": 15,
     "metadata": {},
     "output_type": "execute_result"
    }
   ],
   "source": [
    "mergedData = pd.DataFrame(tweetData,columns=['Date','Tweets','AdjClose'])\n",
    "mergedData.head()"
   ]
  },
  {
   "cell_type": "code",
   "execution_count": 16,
   "metadata": {},
   "outputs": [],
   "source": [
    "mergedData.at[0,'AdjClose'] = 361.779999\n",
    "mergedData.at[1,'AdjClose'] = 364.799988\n",
    "mergedData.at[2,'AdjClose'] = 364.109985\n",
    "mergedData.at[3,'AdjClose'] = 366.519989"
   ]
  },
  {
   "cell_type": "code",
   "execution_count": 17,
   "metadata": {},
   "outputs": [
    {
     "data": {
      "text/html": [
       "<div>\n",
       "<style scoped>\n",
       "    .dataframe tbody tr th:only-of-type {\n",
       "        vertical-align: middle;\n",
       "    }\n",
       "\n",
       "    .dataframe tbody tr th {\n",
       "        vertical-align: top;\n",
       "    }\n",
       "\n",
       "    .dataframe thead th {\n",
       "        text-align: right;\n",
       "    }\n",
       "</style>\n",
       "<table border=\"1\" class=\"dataframe\">\n",
       "  <thead>\n",
       "    <tr style=\"text-align: right;\">\n",
       "      <th></th>\n",
       "      <th>Date</th>\n",
       "      <th>Tweets</th>\n",
       "      <th>AdjClose</th>\n",
       "      <th>Target</th>\n",
       "    </tr>\n",
       "  </thead>\n",
       "  <tbody>\n",
       "    <tr>\n",
       "      <td>0</td>\n",
       "      <td>2020-06-29</td>\n",
       "      <td>ba  backtesting upwards trendline it can possi...</td>\n",
       "      <td>361.779999</td>\n",
       "      <td>364.8</td>\n",
       "    </tr>\n",
       "    <tr>\n",
       "      <td>1</td>\n",
       "      <td>2020-06-30</td>\n",
       "      <td>here is my semiannual report for the past  mon...</td>\n",
       "      <td>364.799988</td>\n",
       "      <td>364.11</td>\n",
       "    </tr>\n",
       "    <tr>\n",
       "      <td>2</td>\n",
       "      <td>2020-07-01</td>\n",
       "      <td>follow for optionsignals optiontrading will go...</td>\n",
       "      <td>364.109985</td>\n",
       "      <td>366.52</td>\n",
       "    </tr>\n",
       "  </tbody>\n",
       "</table>\n",
       "</div>"
      ],
      "text/plain": [
       "         Date                                             Tweets    AdjClose  \\\n",
       "0  2020-06-29  ba  backtesting upwards trendline it can possi...  361.779999   \n",
       "1  2020-06-30  here is my semiannual report for the past  mon...  364.799988   \n",
       "2  2020-07-01  follow for optionsignals optiontrading will go...  364.109985   \n",
       "\n",
       "   Target  \n",
       "0   364.8  \n",
       "1  364.11  \n",
       "2  366.52  "
      ]
     },
     "execution_count": 17,
     "metadata": {},
     "output_type": "execute_result"
    }
   ],
   "source": [
    "mergedData['Target'] = ''\n",
    "\n",
    "for i in range(3):\n",
    "    mergedData.at[i,'Target'] = mergedData.at[i+1,'AdjClose']\n",
    "    \n",
    "mergedData.drop([3],inplace=True)\n",
    "mergedData"
   ]
  },
  {
   "cell_type": "code",
   "execution_count": 11,
   "metadata": {},
   "outputs": [],
   "source": [
    "mergedData.set_index(['Date'],inplace=True)"
   ]
  },
  {
   "cell_type": "code",
   "execution_count": 12,
   "metadata": {},
   "outputs": [],
   "source": [
    "for date in list(stockData.index):\n",
    "    mergedData.at[date,'AdjClose'] = stockData.at[date,'AdjClose']"
   ]
  },
  {
   "cell_type": "code",
   "execution_count": 11,
   "metadata": {},
   "outputs": [
    {
     "data": {
      "text/plain": [
       "56"
      ]
     },
     "execution_count": 11,
     "metadata": {},
     "output_type": "execute_result"
    }
   ],
   "source": [
    "mergedData['AdjClose'].isnull().sum()"
   ]
  },
  {
   "cell_type": "code",
   "execution_count": 12,
   "metadata": {},
   "outputs": [],
   "source": [
    "#mergedData.to_csv('FINALDATASET.csv')"
   ]
  },
  {
   "cell_type": "markdown",
   "metadata": {},
   "source": [
    "## REMOVING ROWS CONTAINING NaN"
   ]
  },
  {
   "cell_type": "code",
   "execution_count": 13,
   "metadata": {},
   "outputs": [],
   "source": [
    "mergedData=mergedData.dropna()"
   ]
  },
  {
   "cell_type": "markdown",
   "metadata": {},
   "source": [
    "# Sentiment Analysis"
   ]
  },
  {
   "cell_type": "code",
   "execution_count": 18,
   "metadata": {},
   "outputs": [
    {
     "name": "stderr",
     "output_type": "stream",
     "text": [
      "[nltk_data] Downloading package vader_lexicon to\n",
      "[nltk_data]     C:\\Users\\Rahul\\AppData\\Roaming\\nltk_data...\n",
      "[nltk_data]   Package vader_lexicon is already up-to-date!\n"
     ]
    }
   ],
   "source": [
    "import nltk\n",
    "nltk.download('vader_lexicon')\n",
    "\n",
    "from nltk.sentiment.vader import SentimentIntensityAnalyzer\n",
    "from nltk.sentiment.vader import SentimentIntensityAnalyzer\n",
    "import unicodedata"
   ]
  },
  {
   "cell_type": "code",
   "execution_count": 19,
   "metadata": {},
   "outputs": [],
   "source": [
    "analyzer = SentimentIntensityAnalyzer()\n",
    "\n",
    "for i,tweet in zip(mergedData.index,mergedData.Tweets):\n",
    "    #sentence_i = unicodedata.normalize('NFKD', tweet)\n",
    "    sentence_sentiment = analyzer.polarity_scores(str(tweet))\n",
    "    mergedData.at[i,'Comp'] = sentence_sentiment['compound']\n",
    "    mergedData.at[i,'Pos'] = sentence_sentiment['pos']\n",
    "    mergedData.at[i,'Neg'] = sentence_sentiment['neg']\n",
    "    mergedData.at[i,'Neu'] = sentence_sentiment['neu']"
   ]
  },
  {
   "cell_type": "code",
   "execution_count": 44,
   "metadata": {},
   "outputs": [],
   "source": [
    "#mergedData.to_csv('test1-Jul.csv')"
   ]
  },
  {
   "cell_type": "code",
   "execution_count": 20,
   "metadata": {},
   "outputs": [
    {
     "data": {
      "text/html": [
       "<div>\n",
       "<style scoped>\n",
       "    .dataframe tbody tr th:only-of-type {\n",
       "        vertical-align: middle;\n",
       "    }\n",
       "\n",
       "    .dataframe tbody tr th {\n",
       "        vertical-align: top;\n",
       "    }\n",
       "\n",
       "    .dataframe thead th {\n",
       "        text-align: right;\n",
       "    }\n",
       "</style>\n",
       "<table border=\"1\" class=\"dataframe\">\n",
       "  <thead>\n",
       "    <tr style=\"text-align: right;\">\n",
       "      <th></th>\n",
       "      <th>Date</th>\n",
       "      <th>Tweets</th>\n",
       "      <th>AdjClose</th>\n",
       "      <th>Target</th>\n",
       "      <th>Comp</th>\n",
       "      <th>Pos</th>\n",
       "      <th>Neg</th>\n",
       "      <th>Neu</th>\n",
       "    </tr>\n",
       "  </thead>\n",
       "  <tbody>\n",
       "    <tr>\n",
       "      <td>0</td>\n",
       "      <td>2020-06-29</td>\n",
       "      <td>ba  backtesting upwards trendline it can possi...</td>\n",
       "      <td>361.779999</td>\n",
       "      <td>364.8</td>\n",
       "      <td>0.9999</td>\n",
       "      <td>0.116</td>\n",
       "      <td>0.032</td>\n",
       "      <td>0.852</td>\n",
       "    </tr>\n",
       "    <tr>\n",
       "      <td>1</td>\n",
       "      <td>2020-06-30</td>\n",
       "      <td>here is my semiannual report for the past  mon...</td>\n",
       "      <td>364.799988</td>\n",
       "      <td>364.11</td>\n",
       "      <td>0.9999</td>\n",
       "      <td>0.110</td>\n",
       "      <td>0.027</td>\n",
       "      <td>0.864</td>\n",
       "    </tr>\n",
       "    <tr>\n",
       "      <td>2</td>\n",
       "      <td>2020-07-01</td>\n",
       "      <td>follow for optionsignals optiontrading will go...</td>\n",
       "      <td>364.109985</td>\n",
       "      <td>366.52</td>\n",
       "      <td>0.9999</td>\n",
       "      <td>0.110</td>\n",
       "      <td>0.026</td>\n",
       "      <td>0.864</td>\n",
       "    </tr>\n",
       "  </tbody>\n",
       "</table>\n",
       "</div>"
      ],
      "text/plain": [
       "         Date                                             Tweets    AdjClose  \\\n",
       "0  2020-06-29  ba  backtesting upwards trendline it can possi...  361.779999   \n",
       "1  2020-06-30  here is my semiannual report for the past  mon...  364.799988   \n",
       "2  2020-07-01  follow for optionsignals optiontrading will go...  364.109985   \n",
       "\n",
       "   Target    Comp    Pos    Neg    Neu  \n",
       "0   364.8  0.9999  0.116  0.032  0.852  \n",
       "1  364.11  0.9999  0.110  0.027  0.864  \n",
       "2  366.52  0.9999  0.110  0.026  0.864  "
      ]
     },
     "execution_count": 20,
     "metadata": {},
     "output_type": "execute_result"
    }
   ],
   "source": [
    "mergedData"
   ]
  },
  {
   "cell_type": "code",
   "execution_count": 17,
   "metadata": {},
   "outputs": [
    {
     "name": "stdout",
     "output_type": "stream",
     "text": [
      "{'neg': 0.396, 'neu': 0.604, 'pos': 0.0, 'compound': -0.3865}\n",
      "Sentiment(polarity=-0.26923076923076916, subjectivity=0.46153846153846156)\n"
     ]
    }
   ],
   "source": [
    "string = 'It was not very good'\n",
    "sentence_sentiment = analyzer.polarity_scores(string)\n",
    "print(sentence_sentiment)\n",
    "\n",
    "sentiments = TextBlob(string)\n",
    "print(sentiments.sentiment)"
   ]
  },
  {
   "cell_type": "code",
   "execution_count": 18,
   "metadata": {
    "scrolled": true
   },
   "outputs": [
    {
     "data": {
      "text/html": [
       "<div>\n",
       "<style scoped>\n",
       "    .dataframe tbody tr th:only-of-type {\n",
       "        vertical-align: middle;\n",
       "    }\n",
       "\n",
       "    .dataframe tbody tr th {\n",
       "        vertical-align: top;\n",
       "    }\n",
       "\n",
       "    .dataframe thead th {\n",
       "        text-align: right;\n",
       "    }\n",
       "</style>\n",
       "<table border=\"1\" class=\"dataframe\">\n",
       "  <thead>\n",
       "    <tr style=\"text-align: right;\">\n",
       "      <th></th>\n",
       "      <th>Tweets</th>\n",
       "      <th>AdjClose</th>\n",
       "      <th>Comp</th>\n",
       "      <th>Pos</th>\n",
       "      <th>Neg</th>\n",
       "      <th>Neu</th>\n",
       "      <th>TextBlobPolarity</th>\n",
       "    </tr>\n",
       "    <tr>\n",
       "      <th>Date</th>\n",
       "      <th></th>\n",
       "      <th></th>\n",
       "      <th></th>\n",
       "      <th></th>\n",
       "      <th></th>\n",
       "      <th></th>\n",
       "      <th></th>\n",
       "    </tr>\n",
       "  </thead>\n",
       "  <tbody>\n",
       "    <tr>\n",
       "      <td>2020-01-02</td>\n",
       "      <td>is already a memetic year tsla is over curren...</td>\n",
       "      <td>298.829956</td>\n",
       "      <td>0.9992</td>\n",
       "      <td>0.145</td>\n",
       "      <td>0.063</td>\n",
       "      <td>0.791</td>\n",
       "      <td>0.107992</td>\n",
       "    </tr>\n",
       "    <tr>\n",
       "      <td>2020-01-03</td>\n",
       "      <td>the sectorselector for  is posted technology x...</td>\n",
       "      <td>295.924713</td>\n",
       "      <td>0.9987</td>\n",
       "      <td>0.107</td>\n",
       "      <td>0.061</td>\n",
       "      <td>0.832</td>\n",
       "      <td>0.121075</td>\n",
       "    </tr>\n",
       "    <tr>\n",
       "      <td>2020-01-06</td>\n",
       "      <td>if youre buying this stock now youre doing it ...</td>\n",
       "      <td>298.282715</td>\n",
       "      <td>0.9964</td>\n",
       "      <td>0.086</td>\n",
       "      <td>0.049</td>\n",
       "      <td>0.865</td>\n",
       "      <td>0.119084</td>\n",
       "    </tr>\n",
       "    <tr>\n",
       "      <td>2020-01-07</td>\n",
       "      <td>if you invested in snapchat a year ago you wou...</td>\n",
       "      <td>296.879883</td>\n",
       "      <td>0.9311</td>\n",
       "      <td>0.073</td>\n",
       "      <td>0.060</td>\n",
       "      <td>0.867</td>\n",
       "      <td>0.128024</td>\n",
       "    </tr>\n",
       "    <tr>\n",
       "      <td>2020-01-08</td>\n",
       "      <td>view todays marketoutlook from discussed spy...</td>\n",
       "      <td>301.655548</td>\n",
       "      <td>0.9945</td>\n",
       "      <td>0.092</td>\n",
       "      <td>0.061</td>\n",
       "      <td>0.847</td>\n",
       "      <td>0.077918</td>\n",
       "    </tr>\n",
       "    <tr>\n",
       "      <td>...</td>\n",
       "      <td>...</td>\n",
       "      <td>...</td>\n",
       "      <td>...</td>\n",
       "      <td>...</td>\n",
       "      <td>...</td>\n",
       "      <td>...</td>\n",
       "      <td>...</td>\n",
       "    </tr>\n",
       "    <tr>\n",
       "      <td>2020-06-19</td>\n",
       "      <td>president trump bringing back the gold standar...</td>\n",
       "      <td>349.720001</td>\n",
       "      <td>0.9996</td>\n",
       "      <td>0.113</td>\n",
       "      <td>0.037</td>\n",
       "      <td>0.849</td>\n",
       "      <td>0.163768</td>\n",
       "    </tr>\n",
       "    <tr>\n",
       "      <td>2020-06-22</td>\n",
       "      <td>top increases in users holding for stocks held...</td>\n",
       "      <td>358.869995</td>\n",
       "      <td>0.9997</td>\n",
       "      <td>0.118</td>\n",
       "      <td>0.036</td>\n",
       "      <td>0.846</td>\n",
       "      <td>0.224847</td>\n",
       "    </tr>\n",
       "    <tr>\n",
       "      <td>2020-06-23</td>\n",
       "      <td>aapl apple appeared to have brokeout but weak ...</td>\n",
       "      <td>366.529999</td>\n",
       "      <td>0.9990</td>\n",
       "      <td>0.087</td>\n",
       "      <td>0.042</td>\n",
       "      <td>0.870</td>\n",
       "      <td>0.129869</td>\n",
       "    </tr>\n",
       "    <tr>\n",
       "      <td>2020-06-24</td>\n",
       "      <td>ctrm come on shorts u guys r weak as fuck brin...</td>\n",
       "      <td>360.059998</td>\n",
       "      <td>0.9996</td>\n",
       "      <td>0.112</td>\n",
       "      <td>0.042</td>\n",
       "      <td>0.846</td>\n",
       "      <td>0.152855</td>\n",
       "    </tr>\n",
       "    <tr>\n",
       "      <td>2020-06-25</td>\n",
       "      <td>my advice to all robinhooders get webull and s...</td>\n",
       "      <td>364.839996</td>\n",
       "      <td>0.9996</td>\n",
       "      <td>0.099</td>\n",
       "      <td>0.033</td>\n",
       "      <td>0.868</td>\n",
       "      <td>0.129663</td>\n",
       "    </tr>\n",
       "  </tbody>\n",
       "</table>\n",
       "<p>121 rows × 7 columns</p>\n",
       "</div>"
      ],
      "text/plain": [
       "                                                       Tweets    AdjClose  \\\n",
       "Date                                                                        \n",
       "2020-01-02   is already a memetic year tsla is over curren...  298.829956   \n",
       "2020-01-03  the sectorselector for  is posted technology x...  295.924713   \n",
       "2020-01-06  if youre buying this stock now youre doing it ...  298.282715   \n",
       "2020-01-07  if you invested in snapchat a year ago you wou...  296.879883   \n",
       "2020-01-08    view todays marketoutlook from discussed spy...  301.655548   \n",
       "...                                                       ...         ...   \n",
       "2020-06-19  president trump bringing back the gold standar...  349.720001   \n",
       "2020-06-22  top increases in users holding for stocks held...  358.869995   \n",
       "2020-06-23  aapl apple appeared to have brokeout but weak ...  366.529999   \n",
       "2020-06-24  ctrm come on shorts u guys r weak as fuck brin...  360.059998   \n",
       "2020-06-25  my advice to all robinhooders get webull and s...  364.839996   \n",
       "\n",
       "              Comp    Pos    Neg    Neu  TextBlobPolarity  \n",
       "Date                                                       \n",
       "2020-01-02  0.9992  0.145  0.063  0.791          0.107992  \n",
       "2020-01-03  0.9987  0.107  0.061  0.832          0.121075  \n",
       "2020-01-06  0.9964  0.086  0.049  0.865          0.119084  \n",
       "2020-01-07  0.9311  0.073  0.060  0.867          0.128024  \n",
       "2020-01-08  0.9945  0.092  0.061  0.847          0.077918  \n",
       "...            ...    ...    ...    ...               ...  \n",
       "2020-06-19  0.9996  0.113  0.037  0.849          0.163768  \n",
       "2020-06-22  0.9997  0.118  0.036  0.846          0.224847  \n",
       "2020-06-23  0.9990  0.087  0.042  0.870          0.129869  \n",
       "2020-06-24  0.9996  0.112  0.042  0.846          0.152855  \n",
       "2020-06-25  0.9996  0.099  0.033  0.868          0.129663  \n",
       "\n",
       "[121 rows x 7 columns]"
      ]
     },
     "execution_count": 18,
     "metadata": {},
     "output_type": "execute_result"
    }
   ],
   "source": [
    "for i,tweet in zip(mergedData.index,mergedData.Tweets):\n",
    "    sentiments = TextBlob(str(tweet))\n",
    "    mergedData.at[i,'TextBlobPolarity'] = sentiments.sentiment.polarity\n",
    "    \n",
    "mergedData"
   ]
  },
  {
   "cell_type": "code",
   "execution_count": 26,
   "metadata": {},
   "outputs": [],
   "source": [
    "mergedData=mergedData.drop(['Tweets'],axis=1)"
   ]
  },
  {
   "cell_type": "code",
   "execution_count": 27,
   "metadata": {},
   "outputs": [],
   "source": [
    "mergedData = mergedData.reset_index()\n",
    "mergedData.to_csv('train.csv')"
   ]
  },
  {
   "cell_type": "code",
   "execution_count": 20,
   "metadata": {},
   "outputs": [],
   "source": [
    "Y = np.array(mergedData.AdjClose[1:])\n",
    "Y = Y.reshape(120,1)"
   ]
  },
  {
   "cell_type": "code",
   "execution_count": 21,
   "metadata": {},
   "outputs": [
    {
     "data": {
      "text/plain": [
       "(120, 1)"
      ]
     },
     "execution_count": 21,
     "metadata": {},
     "output_type": "execute_result"
    }
   ],
   "source": [
    "Y.shape"
   ]
  },
  {
   "cell_type": "code",
   "execution_count": 22,
   "metadata": {},
   "outputs": [
    {
     "data": {
      "text/plain": [
       "(120, 5)"
      ]
     },
     "execution_count": 22,
     "metadata": {},
     "output_type": "execute_result"
    }
   ],
   "source": [
    "X = pd.DataFrame(mergedData,columns=['AdjClose','Comp','Pos','Neg','Neu'])\n",
    "X = X[:120].to_numpy()\n",
    "X.shape"
   ]
  },
  {
   "cell_type": "code",
   "execution_count": 23,
   "metadata": {},
   "outputs": [
    {
     "ename": "NameError",
     "evalue": "name 'train_test_split' is not defined",
     "output_type": "error",
     "traceback": [
      "\u001b[1;31m---------------------------------------------------------------------------\u001b[0m",
      "\u001b[1;31mNameError\u001b[0m                                 Traceback (most recent call last)",
      "\u001b[1;32m<ipython-input-23-598d6a8a2ad2>\u001b[0m in \u001b[0;36m<module>\u001b[1;34m\u001b[0m\n\u001b[1;32m----> 1\u001b[1;33m \u001b[0mxtrain\u001b[0m\u001b[1;33m,\u001b[0m \u001b[0mxtest\u001b[0m\u001b[1;33m,\u001b[0m \u001b[0mytrain\u001b[0m\u001b[1;33m,\u001b[0m \u001b[0mytest\u001b[0m\u001b[1;33m=\u001b[0m\u001b[0mtrain_test_split\u001b[0m\u001b[1;33m(\u001b[0m\u001b[0mX\u001b[0m\u001b[1;33m,\u001b[0m \u001b[0mY\u001b[0m\u001b[1;33m,\u001b[0m \u001b[0mtest_size\u001b[0m\u001b[1;33m=\u001b[0m\u001b[1;36m0.2\u001b[0m\u001b[1;33m)\u001b[0m\u001b[1;33m\u001b[0m\u001b[1;33m\u001b[0m\u001b[0m\n\u001b[0m",
      "\u001b[1;31mNameError\u001b[0m: name 'train_test_split' is not defined"
     ]
    }
   ],
   "source": [
    "xtrain, xtest, ytrain, ytest=train_test_split(X, Y, test_size=0.2)"
   ]
  },
  {
   "cell_type": "code",
   "execution_count": null,
   "metadata": {},
   "outputs": [],
   "source": []
  }
 ],
 "metadata": {
  "kernelspec": {
   "display_name": "Python 3",
   "language": "python",
   "name": "python3"
  },
  "language_info": {
   "codemirror_mode": {
    "name": "ipython",
    "version": 3
   },
   "file_extension": ".py",
   "mimetype": "text/x-python",
   "name": "python",
   "nbconvert_exporter": "python",
   "pygments_lexer": "ipython3",
   "version": "3.7.4"
  }
 },
 "nbformat": 4,
 "nbformat_minor": 2
}
