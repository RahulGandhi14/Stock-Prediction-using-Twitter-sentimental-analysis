{
 "cells": [
  {
   "cell_type": "code",
   "execution_count": 1,
   "metadata": {},
   "outputs": [],
   "source": [
    "import GetOldTweets3 as got\n",
    "import datetime\n",
    "import pandas as pd\n",
    "import re\n",
    "import yfinance as yf"
   ]
  },
  {
   "cell_type": "code",
   "execution_count": 2,
   "metadata": {},
   "outputs": [],
   "source": [
    "def get_Tweets(query,start,end,maxTweets=150):\n",
    "    tweetCriteria = got.manager.TweetCriteria().setQuerySearch(query).setTopTweets(True).setSince(start).setUntil(end).setMaxTweets(maxTweets)\n",
    "    tweets = got.manager.TweetManager().getTweets(tweetCriteria)\n",
    "    return tweets"
   ]
  },
  {
   "cell_type": "code",
   "execution_count": 9,
   "metadata": {},
   "outputs": [],
   "source": [
    "df = pd.DataFrame(columns=['Date','Tweets'])\n",
    "date = datetime.datetime(2020,6,29)\n",
    "tweets = list()\n",
    "while date != datetime.datetime(2020,7,3):\n",
    "    startDate = str(date).split()[0]\n",
    "    endDate = str(date + datetime.timedelta(days=1)).split()[0]\n",
    "    \n",
    "    tweets.append(get_Tweets('AAPL',startDate,endDate))\n",
    "    date += datetime.timedelta(days=1)"
   ]
  },
  {
   "cell_type": "code",
   "execution_count": 10,
   "metadata": {},
   "outputs": [],
   "source": [
    "for tweet in tweets:\n",
    "    if type(tweet) == type(tweets):\n",
    "        for t in tweet:\n",
    "            df = df.append(pd.Series([t.date,t.text], index=df.columns),ignore_index=True)\n",
    "    else:\n",
    "        df = df.append(pd.Series([tweet.date,tweet.text], index=df.columns),ignore_index=True)  "
   ]
  },
  {
   "cell_type": "code",
   "execution_count": 11,
   "metadata": {},
   "outputs": [
    {
     "data": {
      "text/html": [
       "<div>\n",
       "<style scoped>\n",
       "    .dataframe tbody tr th:only-of-type {\n",
       "        vertical-align: middle;\n",
       "    }\n",
       "\n",
       "    .dataframe tbody tr th {\n",
       "        vertical-align: top;\n",
       "    }\n",
       "\n",
       "    .dataframe thead th {\n",
       "        text-align: right;\n",
       "    }\n",
       "</style>\n",
       "<table border=\"1\" class=\"dataframe\">\n",
       "  <thead>\n",
       "    <tr style=\"text-align: right;\">\n",
       "      <th></th>\n",
       "      <th>Date</th>\n",
       "      <th>Tweets</th>\n",
       "    </tr>\n",
       "  </thead>\n",
       "  <tbody>\n",
       "    <tr>\n",
       "      <td>0</td>\n",
       "      <td>2020-06-29 23:26:42+00:00</td>\n",
       "      <td>$BA - Back-testing upwards trendline. It can p...</td>\n",
       "    </tr>\n",
       "    <tr>\n",
       "      <td>1</td>\n",
       "      <td>2020-06-29 20:07:49+00:00</td>\n",
       "      <td>CHECK OUT @STARINKSIGNALS #options #optiontrad...</td>\n",
       "    </tr>\n",
       "    <tr>\n",
       "      <td>2</td>\n",
       "      <td>2020-06-29 19:07:30+00:00</td>\n",
       "      <td>$GOOG $AAPL $SPY $AMZN $TDOC $TSLA $COST $BA $...</td>\n",
       "    </tr>\n",
       "    <tr>\n",
       "      <td>3</td>\n",
       "      <td>2020-06-29 17:29:54+00:00</td>\n",
       "      <td>$AAPL - if the pattern continues, should be se...</td>\n",
       "    </tr>\n",
       "    <tr>\n",
       "      <td>4</td>\n",
       "      <td>2020-06-29 16:58:10+00:00</td>\n",
       "      <td>$FB nice recovery off cloud high and recovered...</td>\n",
       "    </tr>\n",
       "    <tr>\n",
       "      <td>...</td>\n",
       "      <td>...</td>\n",
       "      <td>...</td>\n",
       "    </tr>\n",
       "    <tr>\n",
       "      <td>595</td>\n",
       "      <td>2020-07-02 01:39:14+00:00</td>\n",
       "      <td>People are loaded to the gills with the same s...</td>\n",
       "    </tr>\n",
       "    <tr>\n",
       "      <td>596</td>\n",
       "      <td>2020-07-02 01:16:58+00:00</td>\n",
       "      <td>July 2 Plan *Click on Picture to Expand* Pleas...</td>\n",
       "    </tr>\n",
       "    <tr>\n",
       "      <td>597</td>\n",
       "      <td>2020-07-02 01:08:11+00:00</td>\n",
       "      <td>I have a dispersion question I need help with....</td>\n",
       "    </tr>\n",
       "    <tr>\n",
       "      <td>598</td>\n",
       "      <td>2020-07-02 01:06:32+00:00</td>\n",
       "      <td>$GLD Bullish #OptionsAction!! $work $docu $okt...</td>\n",
       "    </tr>\n",
       "    <tr>\n",
       "      <td>599</td>\n",
       "      <td>2020-07-02 01:03:59+00:00</td>\n",
       "      <td>Everyone has an opinion, and it does look a bi...</td>\n",
       "    </tr>\n",
       "  </tbody>\n",
       "</table>\n",
       "<p>600 rows × 2 columns</p>\n",
       "</div>"
      ],
      "text/plain": [
       "                          Date  \\\n",
       "0    2020-06-29 23:26:42+00:00   \n",
       "1    2020-06-29 20:07:49+00:00   \n",
       "2    2020-06-29 19:07:30+00:00   \n",
       "3    2020-06-29 17:29:54+00:00   \n",
       "4    2020-06-29 16:58:10+00:00   \n",
       "..                         ...   \n",
       "595  2020-07-02 01:39:14+00:00   \n",
       "596  2020-07-02 01:16:58+00:00   \n",
       "597  2020-07-02 01:08:11+00:00   \n",
       "598  2020-07-02 01:06:32+00:00   \n",
       "599  2020-07-02 01:03:59+00:00   \n",
       "\n",
       "                                                Tweets  \n",
       "0    $BA - Back-testing upwards trendline. It can p...  \n",
       "1    CHECK OUT @STARINKSIGNALS #options #optiontrad...  \n",
       "2    $GOOG $AAPL $SPY $AMZN $TDOC $TSLA $COST $BA $...  \n",
       "3    $AAPL - if the pattern continues, should be se...  \n",
       "4    $FB nice recovery off cloud high and recovered...  \n",
       "..                                                 ...  \n",
       "595  People are loaded to the gills with the same s...  \n",
       "596  July 2 Plan *Click on Picture to Expand* Pleas...  \n",
       "597  I have a dispersion question I need help with....  \n",
       "598  $GLD Bullish #OptionsAction!! $work $docu $okt...  \n",
       "599  Everyone has an opinion, and it does look a bi...  \n",
       "\n",
       "[600 rows x 2 columns]"
      ]
     },
     "execution_count": 11,
     "metadata": {},
     "output_type": "execute_result"
    }
   ],
   "source": [
    "df"
   ]
  },
  {
   "cell_type": "code",
   "execution_count": 12,
   "metadata": {},
   "outputs": [],
   "source": [
    "i=0\n",
    "for tweet in df.Tweets:\n",
    "    tweet = tweet.lower()\n",
    "    tweet = re.sub('((www\\.[^\\s]+)|(https?://[^\\s]+))','',tweet)\n",
    "    tweet = re.sub('@[^\\s]+',' ',tweet)\n",
    "    tweet = re.sub('[\\s]+', ' ', tweet)\n",
    "    tweet = re.sub(r'#([^\\s]+)', r'\\1', tweet)\n",
    "    tweet = tweet.strip('\\'\"')\n",
    "    tweet = re.sub('[^a-zA-Z\\s]*', '', tweet)\n",
    "    df.at[i,'Tweets'] = tweet\n",
    "    i+=1"
   ]
  },
  {
   "cell_type": "code",
   "execution_count": 13,
   "metadata": {},
   "outputs": [],
   "source": [
    "df.drop_duplicates(subset=['Date','Tweets'],keep='first',inplace=True)\n",
    "df['Date'] = df['Date'].apply(lambda x: str(x).split()[0])"
   ]
  },
  {
   "cell_type": "code",
   "execution_count": 8,
   "metadata": {},
   "outputs": [],
   "source": [
    "#df.to_csv('DayWise.csv')"
   ]
  },
  {
   "cell_type": "code",
   "execution_count": 14,
   "metadata": {},
   "outputs": [
    {
     "data": {
      "text/html": [
       "<div>\n",
       "<style scoped>\n",
       "    .dataframe tbody tr th:only-of-type {\n",
       "        vertical-align: middle;\n",
       "    }\n",
       "\n",
       "    .dataframe tbody tr th {\n",
       "        vertical-align: top;\n",
       "    }\n",
       "\n",
       "    .dataframe thead th {\n",
       "        text-align: right;\n",
       "    }\n",
       "</style>\n",
       "<table border=\"1\" class=\"dataframe\">\n",
       "  <thead>\n",
       "    <tr style=\"text-align: right;\">\n",
       "      <th></th>\n",
       "      <th>Date</th>\n",
       "      <th>Tweets</th>\n",
       "    </tr>\n",
       "  </thead>\n",
       "  <tbody>\n",
       "    <tr>\n",
       "      <td>0</td>\n",
       "      <td>2020-06-29</td>\n",
       "      <td>ba  backtesting upwards trendline it can possi...</td>\n",
       "    </tr>\n",
       "    <tr>\n",
       "      <td>1</td>\n",
       "      <td>2020-06-30</td>\n",
       "      <td>here is my semiannual report for the past  mon...</td>\n",
       "    </tr>\n",
       "    <tr>\n",
       "      <td>2</td>\n",
       "      <td>2020-07-01</td>\n",
       "      <td>follow for optionsignals optiontrading will go...</td>\n",
       "    </tr>\n",
       "    <tr>\n",
       "      <td>3</td>\n",
       "      <td>2020-07-02</td>\n",
       "      <td>msft outperforming aapl fb nflf today  ready f...</td>\n",
       "    </tr>\n",
       "  </tbody>\n",
       "</table>\n",
       "</div>"
      ],
      "text/plain": [
       "         Date                                             Tweets\n",
       "0  2020-06-29  ba  backtesting upwards trendline it can possi...\n",
       "1  2020-06-30  here is my semiannual report for the past  mon...\n",
       "2  2020-07-01  follow for optionsignals optiontrading will go...\n",
       "3  2020-07-02  msft outperforming aapl fb nflf today  ready f..."
      ]
     },
     "execution_count": 14,
     "metadata": {},
     "output_type": "execute_result"
    }
   ],
   "source": [
    "combine = lambda tweet:\",\".join(tweet)\n",
    "grouped = df.groupby(\"Date\").agg({'Tweets':combine},inplace=True).reset_index()\n",
    "\n",
    "grouped.sort_values(by=['Date'],inplace=True)\n",
    "grouped"
   ]
  },
  {
   "cell_type": "code",
   "execution_count": 30,
   "metadata": {},
   "outputs": [],
   "source": [
    "#grouped.to_csv('GetOldTweets.csv')\n",
    "grouped.to_csv('Test28-30.csv')"
   ]
  },
  {
   "cell_type": "code",
   "execution_count": 11,
   "metadata": {},
   "outputs": [
    {
     "data": {
      "text/html": [
       "<div>\n",
       "<style scoped>\n",
       "    .dataframe tbody tr th:only-of-type {\n",
       "        vertical-align: middle;\n",
       "    }\n",
       "\n",
       "    .dataframe tbody tr th {\n",
       "        vertical-align: top;\n",
       "    }\n",
       "\n",
       "    .dataframe thead th {\n",
       "        text-align: right;\n",
       "    }\n",
       "</style>\n",
       "<table border=\"1\" class=\"dataframe\">\n",
       "  <thead>\n",
       "    <tr style=\"text-align: right;\">\n",
       "      <th></th>\n",
       "      <th>Date</th>\n",
       "      <th>Tweets</th>\n",
       "    </tr>\n",
       "  </thead>\n",
       "  <tbody>\n",
       "    <tr>\n",
       "      <td>0</td>\n",
       "      <td>2020-06-28</td>\n",
       "      <td>that feeling when aapl falls apart and you see...</td>\n",
       "    </tr>\n",
       "    <tr>\n",
       "      <td>1</td>\n",
       "      <td>2020-06-29</td>\n",
       "      <td>ba  backtesting upwards trendline it can possi...</td>\n",
       "    </tr>\n",
       "    <tr>\n",
       "      <td>2</td>\n",
       "      <td>2020-06-30</td>\n",
       "      <td>here is my semiannual report for the past  mon...</td>\n",
       "    </tr>\n",
       "  </tbody>\n",
       "</table>\n",
       "</div>"
      ],
      "text/plain": [
       "         Date                                             Tweets\n",
       "0  2020-06-28  that feeling when aapl falls apart and you see...\n",
       "1  2020-06-29  ba  backtesting upwards trendline it can possi...\n",
       "2  2020-06-30  here is my semiannual report for the past  mon..."
      ]
     },
     "execution_count": 11,
     "metadata": {},
     "output_type": "execute_result"
    }
   ],
   "source": [
    "df1 = pd.read_csv('Test28-30.csv',usecols=['Date','Tweets'])\n",
    "df1"
   ]
  },
  {
   "cell_type": "code",
   "execution_count": 31,
   "metadata": {},
   "outputs": [
    {
     "data": {
      "text/html": [
       "<div>\n",
       "<style scoped>\n",
       "    .dataframe tbody tr th:only-of-type {\n",
       "        vertical-align: middle;\n",
       "    }\n",
       "\n",
       "    .dataframe tbody tr th {\n",
       "        vertical-align: top;\n",
       "    }\n",
       "\n",
       "    .dataframe thead th {\n",
       "        text-align: right;\n",
       "    }\n",
       "</style>\n",
       "<table border=\"1\" class=\"dataframe\">\n",
       "  <thead>\n",
       "    <tr style=\"text-align: right;\">\n",
       "      <th></th>\n",
       "      <th>Date</th>\n",
       "      <th>Tweets</th>\n",
       "    </tr>\n",
       "  </thead>\n",
       "  <tbody>\n",
       "    <tr>\n",
       "      <td>0</td>\n",
       "      <td>2020-01-01</td>\n",
       "      <td>market driver 2019 aapl had highest approx tur...</td>\n",
       "    </tr>\n",
       "    <tr>\n",
       "      <td>1</td>\n",
       "      <td>2020-01-02</td>\n",
       "      <td>2020 is already a memetic year tsla is over 42...</td>\n",
       "    </tr>\n",
       "    <tr>\n",
       "      <td>2</td>\n",
       "      <td>2020-01-03</td>\n",
       "      <td>the sectorselector for 010320 is posted techno...</td>\n",
       "    </tr>\n",
       "    <tr>\n",
       "      <td>3</td>\n",
       "      <td>2020-01-04</td>\n",
       "      <td>wild that apple aapl the biggest company in th...</td>\n",
       "    </tr>\n",
       "    <tr>\n",
       "      <td>4</td>\n",
       "      <td>2020-01-05</td>\n",
       "      <td>do you want to learn to trade stocks using bac...</td>\n",
       "    </tr>\n",
       "    <tr>\n",
       "      <td>...</td>\n",
       "      <td>...</td>\n",
       "      <td>...</td>\n",
       "    </tr>\n",
       "    <tr>\n",
       "      <td>172</td>\n",
       "      <td>2020-06-22</td>\n",
       "      <td>top increases in users holding for stocks held...</td>\n",
       "    </tr>\n",
       "    <tr>\n",
       "      <td>173</td>\n",
       "      <td>2020-06-23</td>\n",
       "      <td>aapl apple appeared to have brokeout but weak ...</td>\n",
       "    </tr>\n",
       "    <tr>\n",
       "      <td>174</td>\n",
       "      <td>2020-06-24</td>\n",
       "      <td>ctrm come on shorts u guys r weak as fuck brin...</td>\n",
       "    </tr>\n",
       "    <tr>\n",
       "      <td>175</td>\n",
       "      <td>2020-06-25</td>\n",
       "      <td>my advice to all robinhooders get webull and s...</td>\n",
       "    </tr>\n",
       "    <tr>\n",
       "      <td>176</td>\n",
       "      <td>2020-06-26</td>\n",
       "      <td>gci bounced off support trendline i loaded up ...</td>\n",
       "    </tr>\n",
       "  </tbody>\n",
       "</table>\n",
       "<p>177 rows × 2 columns</p>\n",
       "</div>"
      ],
      "text/plain": [
       "           Date                                             Tweets\n",
       "0    2020-01-01  market driver 2019 aapl had highest approx tur...\n",
       "1    2020-01-02  2020 is already a memetic year tsla is over 42...\n",
       "2    2020-01-03  the sectorselector for 010320 is posted techno...\n",
       "3    2020-01-04  wild that apple aapl the biggest company in th...\n",
       "4    2020-01-05  do you want to learn to trade stocks using bac...\n",
       "..          ...                                                ...\n",
       "172  2020-06-22  top increases in users holding for stocks held...\n",
       "173  2020-06-23  aapl apple appeared to have brokeout but weak ...\n",
       "174  2020-06-24  ctrm come on shorts u guys r weak as fuck brin...\n",
       "175  2020-06-25  my advice to all robinhooders get webull and s...\n",
       "176  2020-06-26  gci bounced off support trendline i loaded up ...\n",
       "\n",
       "[177 rows x 2 columns]"
      ]
     },
     "execution_count": 31,
     "metadata": {},
     "output_type": "execute_result"
    }
   ],
   "source": [
    "merged = pd.concat([grouped,df1])\n",
    "merged.sort_values(by=['Date'],inplace=True)\n",
    "merged = merged.reset_index()\n",
    "merged = merged.drop(['index'],axis=1)\n",
    "merged"
   ]
  },
  {
   "cell_type": "code",
   "execution_count": 32,
   "metadata": {},
   "outputs": [],
   "source": [
    "#merged.to_csv('FINAL1-6.csv')"
   ]
  },
  {
   "cell_type": "code",
   "execution_count": null,
   "metadata": {},
   "outputs": [],
   "source": []
  },
  {
   "cell_type": "code",
   "execution_count": 18,
   "metadata": {},
   "outputs": [
    {
     "name": "stdout",
     "output_type": "stream",
     "text": [
      "[*********************100%***********************]  1 of 1 completed\n"
     ]
    }
   ],
   "source": [
    "data = yf.download(\"AAPL\", start=\"2020-06-28\", end=\"2020-07-01\")"
   ]
  },
  {
   "cell_type": "code",
   "execution_count": 19,
   "metadata": {},
   "outputs": [],
   "source": [
    "data = data.drop(columns=['Open','High','Low','Close','Volume'],axis=1)"
   ]
  },
  {
   "cell_type": "code",
   "execution_count": 20,
   "metadata": {},
   "outputs": [
    {
     "data": {
      "text/html": [
       "<div>\n",
       "<style scoped>\n",
       "    .dataframe tbody tr th:only-of-type {\n",
       "        vertical-align: middle;\n",
       "    }\n",
       "\n",
       "    .dataframe tbody tr th {\n",
       "        vertical-align: top;\n",
       "    }\n",
       "\n",
       "    .dataframe thead th {\n",
       "        text-align: right;\n",
       "    }\n",
       "</style>\n",
       "<table border=\"1\" class=\"dataframe\">\n",
       "  <thead>\n",
       "    <tr style=\"text-align: right;\">\n",
       "      <th></th>\n",
       "      <th>AdjClose</th>\n",
       "    </tr>\n",
       "    <tr>\n",
       "      <th>Date</th>\n",
       "      <th></th>\n",
       "    </tr>\n",
       "  </thead>\n",
       "  <tbody>\n",
       "    <tr>\n",
       "      <td>2020-06-29</td>\n",
       "      <td>361.779999</td>\n",
       "    </tr>\n",
       "    <tr>\n",
       "      <td>2020-06-30</td>\n",
       "      <td>364.799988</td>\n",
       "    </tr>\n",
       "  </tbody>\n",
       "</table>\n",
       "</div>"
      ],
      "text/plain": [
       "              AdjClose\n",
       "Date                  \n",
       "2020-06-29  361.779999\n",
       "2020-06-30  364.799988"
      ]
     },
     "execution_count": 20,
     "metadata": {},
     "output_type": "execute_result"
    }
   ],
   "source": [
    "stockPrices = data.rename(columns={'Adj Close':'AdjClose'})\n",
    "stockPrices = stockPrices.reset_index()\n",
    "stockPrices['Date'] = stockPrices['Date'].astype(str)\n",
    "stockPrices.set_index('Date',inplace=True)\n",
    "stockPrices.head()"
   ]
  },
  {
   "cell_type": "code",
   "execution_count": 21,
   "metadata": {},
   "outputs": [],
   "source": [
    "#stockPrices.to_csv('testY.csv')"
   ]
  },
  {
   "cell_type": "code",
   "execution_count": 27,
   "metadata": {},
   "outputs": [],
   "source": [
    "tweets = pd.read_csv('FINALMERGED.csv',usecols=['Date','Tweets'])\n",
    "tweets['Date'] = tweets['Date'].astype(str)"
   ]
  },
  {
   "cell_type": "code",
   "execution_count": 45,
   "metadata": {
    "collapsed": true
   },
   "outputs": [
    {
     "data": {
      "text/html": [
       "<div>\n",
       "<style scoped>\n",
       "    .dataframe tbody tr th:only-of-type {\n",
       "        vertical-align: middle;\n",
       "    }\n",
       "\n",
       "    .dataframe tbody tr th {\n",
       "        vertical-align: top;\n",
       "    }\n",
       "\n",
       "    .dataframe thead th {\n",
       "        text-align: right;\n",
       "    }\n",
       "</style>\n",
       "<table border=\"1\" class=\"dataframe\">\n",
       "  <thead>\n",
       "    <tr style=\"text-align: right;\">\n",
       "      <th></th>\n",
       "      <th>Date</th>\n",
       "    </tr>\n",
       "  </thead>\n",
       "  <tbody>\n",
       "    <tr>\n",
       "      <td>0</td>\n",
       "      <td>2020-04-20</td>\n",
       "    </tr>\n",
       "    <tr>\n",
       "      <td>1</td>\n",
       "      <td>2020-04-21</td>\n",
       "    </tr>\n",
       "    <tr>\n",
       "      <td>2</td>\n",
       "      <td>2020-04-22</td>\n",
       "    </tr>\n",
       "    <tr>\n",
       "      <td>3</td>\n",
       "      <td>2020-04-23</td>\n",
       "    </tr>\n",
       "    <tr>\n",
       "      <td>4</td>\n",
       "      <td>2020-04-24</td>\n",
       "    </tr>\n",
       "    <tr>\n",
       "      <td>...</td>\n",
       "      <td>...</td>\n",
       "    </tr>\n",
       "    <tr>\n",
       "      <td>62</td>\n",
       "      <td>2020-06-22</td>\n",
       "    </tr>\n",
       "    <tr>\n",
       "      <td>63</td>\n",
       "      <td>2020-06-23</td>\n",
       "    </tr>\n",
       "    <tr>\n",
       "      <td>64</td>\n",
       "      <td>2020-06-24</td>\n",
       "    </tr>\n",
       "    <tr>\n",
       "      <td>65</td>\n",
       "      <td>2020-06-25</td>\n",
       "    </tr>\n",
       "    <tr>\n",
       "      <td>66</td>\n",
       "      <td>2020-06-26</td>\n",
       "    </tr>\n",
       "  </tbody>\n",
       "</table>\n",
       "<p>67 rows × 1 columns</p>\n",
       "</div>"
      ],
      "text/plain": [
       "          Date\n",
       "0   2020-04-20\n",
       "1   2020-04-21\n",
       "2   2020-04-22\n",
       "3   2020-04-23\n",
       "4   2020-04-24\n",
       "..         ...\n",
       "62  2020-06-22\n",
       "63  2020-06-23\n",
       "64  2020-06-24\n",
       "65  2020-06-25\n",
       "66  2020-06-26\n",
       "\n",
       "[67 rows x 1 columns]"
      ]
     },
     "execution_count": 45,
     "metadata": {},
     "output_type": "execute_result"
    }
   ],
   "source": [
    "merged = pd.DataFrame(tweets['Date'])\n"
   ]
  },
  {
   "cell_type": "code",
   "execution_count": 47,
   "metadata": {},
   "outputs": [
    {
     "data": {
      "text/plain": [
       "'2020-04-20'"
      ]
     },
     "execution_count": 47,
     "metadata": {},
     "output_type": "execute_result"
    }
   ],
   "source": []
  },
  {
   "cell_type": "code",
   "execution_count": null,
   "metadata": {},
   "outputs": [],
   "source": []
  }
 ],
 "metadata": {
  "kernelspec": {
   "display_name": "Python 3",
   "language": "python",
   "name": "python3"
  },
  "language_info": {
   "codemirror_mode": {
    "name": "ipython",
    "version": 3
   },
   "file_extension": ".py",
   "mimetype": "text/x-python",
   "name": "python",
   "nbconvert_exporter": "python",
   "pygments_lexer": "ipython3",
   "version": "3.7.4"
  }
 },
 "nbformat": 4,
 "nbformat_minor": 2
}
